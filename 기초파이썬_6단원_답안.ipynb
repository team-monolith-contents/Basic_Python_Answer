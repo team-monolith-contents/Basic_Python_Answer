{
 "cells": [
  {
   "cell_type": "markdown",
   "id": "4d3bda30-49aa-4d6f-a9ba-327cfb27f74e",
   "metadata": {},
   "source": [
    "### **💯 연습문제를 풀어봅시다**\n",
    "1. <a class=\"jcecodle-mk jcecodle-mk__problem-chip\" data-problem-id=\"HSwNd0HJeyw\" href='#jce-judge/open/HSwNd0HJeyw' target='_self'><span>언제까지 더할까?1_빈칸</span></a>\n",
    "2. <a class=\"jcecodle-mk jcecodle-mk__problem-chip\" data-problem-id=\"150\" href='#jce-judge/open/150' target='_self'><span>언제까지 더할까?1</span></a>\n",
    "3. <a class=\"jcecodle-mk jcecodle-mk__problem-chip\" data-problem-id=\"2pV_djhFWrA\" href='#jce-judge/open/2pV_djhFWrA' target='_self'><span>언제까지 더할까?2_빈칸</span></a>\n",
    "4. <a class=\"jcecodle-mk jcecodle-mk__problem-chip\" data-problem-id=\"153\" href='#jce-judge/open/153' target='_self'><span>언제까지 더할까?2</span></a>\n",
    "5. <a class=\"jcecodle-mk jcecodle-mk__problem-chip\" data-problem-id=\"X1ksXkBrsIg\" href='#jce-judge/open/X1ksXkBrsIg' target='_self'><span>짝수 합 구하기_빈칸</span></a>\n",
    "6. <a class=\"jcecodle-mk jcecodle-mk__problem-chip\" data-problem-id=\"147\" href='#jce-judge/open/147' target='_self'><span>짝수 합 구하기</span></a>\n",
    "7. <a class=\"jcecodle-mk jcecodle-mk__problem-chip\" data-problem-id=\"SNAxVhwCJ0o\" href='#jce-judge/open/SNAxVhwCJ0o' target='_self'><span>카운트다운4_빈칸</span></a>\n",
    "8. <a class=\"jcecodle-mk jcecodle-mk__problem-chip\" data-problem-id=\"144\" href='#jce-judge/open/144' target='_self'><span>카운트다운4</span></a>\n",
    "9. <a class=\"jcecodle-mk jcecodle-mk__problem-chip\" data-problem-id=\"hkdye6LV1ss\" href='#jce-judge/open/hkdye6LV1ss' target='_self'><span>루트1_빈칸</span></a>\n",
    "10. <a class=\"jcecodle-mk jcecodle-mk__problem-chip\" data-problem-id=\"qc6M0WkzdUY\" href='#jce-judge/open/qc6M0WkzdUY' target='_self'><span>루트1</span></a>\n",
    "11. <a class=\"jcecodle-mk jcecodle-mk__problem-chip\" data-problem-id=\"E-BA6xiCBu4\" href='#jce-judge/open/E-BA6xiCBu4' target='_self'><span>팩토리얼_빈칸</span></a>\n",
    "12. <a class=\"jcecodle-mk jcecodle-mk__problem-chip\" data-problem-id=\"quDD61t_2o0\" href='#jce-judge/open/quDD61t_2o0' target='_self'><span>팩토리얼</span></a>\n",
    "13. <a class=\"jcecodle-mk jcecodle-mk__problem-chip\" data-problem-id=\"BpxzsAzL9HI\" href='#jce-judge/open/BpxzsAzL9HI' target='_self'><span>0이 입력될때까지 출력하기_빈칸</span></a>\n",
    "14. <a class=\"jcecodle-mk jcecodle-mk__problem-chip\" data-problem-id=\"135\" href='#jce-judge/open/135' target='_self'><span>0이 입력될때까지 출력하기</span></a>\n",
    "15. <a class=\"jcecodle-mk jcecodle-mk__problem-chip\" data-problem-id=\"pcJqywX5Wog\" href='#jce-judge/open/pcJqywX5Wog' target='_self'><span>3의 배수는 안돼_빈칸</span></a>\n",
    "16. <a class=\"jcecodle-mk jcecodle-mk__problem-chip\" data-problem-id=\"159\" href='#jce-judge/open/159' target='_self'><span>3의 배수는 안돼</span></a>\n",
    "17. <a class=\"jcecodle-mk jcecodle-mk__problem-chip\" data-problem-id=\"W6-1HY-XtFo\" href='#jce-judge/open/W6-1HY-XtFo' target='_self'><span>자릿수 더하기_빈칸</span></a>\n",
    "18. <a class=\"jcecodle-mk jcecodle-mk__problem-chip\" data-problem-id=\"KcDVh1s9VRw\" href='#jce-judge/open/KcDVh1s9VRw' target='_self'><span>자릿수 더하기</span></a>\n"
   ]
  },
  {
   "cell_type": "code",
   "execution_count": null,
   "id": "baef70d7-eec0-43c9-a900-12edd0a1b12b",
   "metadata": {},
   "outputs": [],
   "source": [
    "# 1. 언제까지 더할까?1_빈칸\n",
    "n = int(input())\n",
    "a = 0\n",
    "sum = 0\n",
    "\n",
    "while sum<n:#while문을 사용하여 sum이 n보다 작을 때 아래 코드를 반복해보자\n",
    "    a += 1\n",
    "    sum += a\n",
    "\n",
    "print(a)"
   ]
  },
  {
   "cell_type": "code",
   "execution_count": null,
   "id": "b20c00fc-ef7a-4323-b870-d96496cfc922",
   "metadata": {},
   "outputs": [],
   "source": [
    "# 2. 언제까지 더할까?1\n",
    "a = int(input())\n",
    "\n",
    "sum = 0\n",
    "num = 1\n",
    "while(sum < a):\n",
    "    sum += num\n",
    "    num += 1\n",
    "print(num-1)"
   ]
  },
  {
   "cell_type": "code",
   "execution_count": null,
   "id": "e6646aa9-0bb7-4b8a-917e-9b60252992be",
   "metadata": {},
   "outputs": [],
   "source": [
    "# 3. 언제까지 더할까?2_빈칸\n",
    "n = int(input())\n",
    "sum = 0\n",
    "a = 1\n",
    "\n",
    "while sum<n:#while문을 사용하여 sum이 n보다 작을 때 아래 코드를 반복해보자\n",
    "    sum += a\n",
    "    a+=1\n",
    "    \n",
    "print(sum)"
   ]
  },
  {
   "cell_type": "code",
   "execution_count": null,
   "id": "7981da90-f339-4de5-9586-efd8907714b4",
   "metadata": {},
   "outputs": [],
   "source": [
    "# 4. 언제까지 더할까?2\n",
    "a = int(input())\n",
    "\n",
    "sum = 0\n",
    "num = 1\n",
    "\n",
    "while(sum < a):\n",
    "    sum += num\n",
    "    num += 1\n",
    "    \n",
    "print(sum)"
   ]
  },
  {
   "cell_type": "code",
   "execution_count": null,
   "id": "d53a602e-9fa5-47c1-bf5e-05d1bbd29299",
   "metadata": {},
   "outputs": [],
   "source": [
    "# 5. 짝수 합 구하기_빈칸\n",
    "n = int(input())\n",
    "sum = 0\n",
    "\n",
    "i=0#변수 i로 while문의 초기식을 작성주세요.\n",
    "\n",
    "while i<=n:# i가 n일 때까지 반복하도록 while문을 작성해주세요.\n",
    "    if i%2 == 0:\n",
    "        sum += i\n",
    "    i+=1# i가 매 반복마다 1씩 커지도록 while문의 변화식을 작성해주세요.\n",
    "        \n",
    "print(sum)"
   ]
  },
  {
   "cell_type": "code",
   "execution_count": null,
   "id": "abdfd672-1f09-4b28-b72e-f33da414814f",
   "metadata": {},
   "outputs": [],
   "source": [
    "# 6. 짝수 합 구하기\n",
    "n = int(input())\n",
    "sum = 0\n",
    "\n",
    "i=0\n",
    "\n",
    "while i<=n:\n",
    "    if i%2 == 0:\n",
    "        sum += i\n",
    "    i+=1\n",
    "        \n",
    "print(sum)"
   ]
  },
  {
   "cell_type": "code",
   "execution_count": null,
   "id": "89ef31e0-c557-4db2-a979-a05b782ab383",
   "metadata": {},
   "outputs": [],
   "source": [
    "# 7. 카운트다운4_빈칸\n",
    "n = int(input())\n",
    "i = 0 #while문 초기식\n",
    "\n",
    "while i<=n:# 0부터 n까지 반복하는 while문을 작성하고\n",
    "    if i%2 == 0:# 매 반복마다 i가 짝수이면 i를 출력하도록 조건문을 작성해보자\n",
    "        print(i)\n",
    "    i=i+1"
   ]
  },
  {
   "cell_type": "code",
   "execution_count": null,
   "id": "441be2b1-9981-4005-b0a1-b5c31e9d6c05",
   "metadata": {},
   "outputs": [],
   "source": [
    "# 8. 카운트다운4\n",
    "n = int(input())\n",
    "i = 0\n",
    "\n",
    "while i<=n:\n",
    "    if i%2 == 0:\n",
    "        print(i)\n",
    "    i=i+1"
   ]
  },
  {
   "cell_type": "code",
   "execution_count": null,
   "id": "38aed770-1535-46c2-b807-3af7cba16dba",
   "metadata": {},
   "outputs": [],
   "source": [
    "# 9. 루트1_빈칸\n",
    "b, n = map(int, input().split())\n",
    "i = 1\n",
    "\n",
    "while i**n<b:#i를 n제곱한 값이 b보다 작을 때만 반복하도록 while문의 조건을 작성해보자\n",
    "    i+=1\n",
    "\n",
    "print(i)"
   ]
  },
  {
   "cell_type": "code",
   "execution_count": null,
   "id": "e41e946a-1608-434b-94bd-edd4c872ec9b",
   "metadata": {},
   "outputs": [],
   "source": [
    "# 10. 루트1\n",
    "b, n = map(int, input().split())\n",
    "i = 1\n",
    "\n",
    "while i**n<b:\n",
    "    i+=1\n",
    "\n",
    "print(i)"
   ]
  },
  {
   "cell_type": "code",
   "execution_count": null,
   "id": "55f55ab8-ba85-4211-9b2c-710a6324b39f",
   "metadata": {},
   "outputs": [],
   "source": [
    "# 11. 팩토리얼_빈칸\n",
    "n = int(input())\n",
    "res = 1\n",
    "\n",
    "while n>0:#n에서 1까지 반복하는 while문을 작성해보자(변화식 변수가 n임에 주의해주세요.)\n",
    "    res*=n\n",
    "    n-=1  #while문 변화식\n",
    "\n",
    "print(res)"
   ]
  },
  {
   "cell_type": "code",
   "execution_count": null,
   "id": "4a86c338-1d96-478d-bc21-fd27ad5572bd",
   "metadata": {},
   "outputs": [],
   "source": [
    "# 12. 팩토리얼\n",
    "n = int(input())\n",
    "res = 1\n",
    "\n",
    "while n>0:\n",
    "    res*=n\n",
    "    n-=1\n",
    "\n",
    "print(res)"
   ]
  },
  {
   "cell_type": "code",
   "execution_count": null,
   "id": "3b9e5812-2671-4329-93ac-1da193d4120b",
   "metadata": {},
   "outputs": [],
   "source": [
    "# 13. 0이 입력될때까지 출력하기_빈칸\n",
    "a = int(input())\n",
    "\n",
    "while a != 0:#a에 0이 입력될 때까지만 반복하는 while문을 작성해보자\n",
    "    print(a)\n",
    "    a = int(input())"
   ]
  },
  {
   "cell_type": "code",
   "execution_count": null,
   "id": "d3609593-c3b5-4b88-ac43-f7ca5b5bd599",
   "metadata": {},
   "outputs": [],
   "source": [
    "# 14. 0이 입력될때까지 출력하기\n",
    "a = int(input())\n",
    "while a != 0:\n",
    "    print(a)\n",
    "    a = int(input())"
   ]
  },
  {
   "cell_type": "code",
   "execution_count": null,
   "id": "696c00f8-0817-4afb-8a39-a083e6039d49",
   "metadata": {},
   "outputs": [],
   "source": [
    "# 15. 3의 배수는 안돼_빈칸\n",
    "n = int(input())\n",
    "i = 1 #while문 초기식\n",
    "\n",
    "while i<=n:# i가 1에서 n까지 반복되도록 while문을 작성해보자\n",
    "    if i%3 != 0:# i가 3의 배수가 아닌 경우를 if문을 사용하여 표현해보자\n",
    "        print(i, end=' ')  \n",
    "    i += 1#변화식"
   ]
  },
  {
   "cell_type": "code",
   "execution_count": null,
   "id": "6277ba2a-df3f-4391-8f53-becfddb53dc2",
   "metadata": {},
   "outputs": [],
   "source": [
    "# 16. 3의 배수는 안돼\n",
    "n = int(input())\n",
    "i = 1\n",
    "\n",
    "while i<=n:\n",
    "    if i%3 != 0:\n",
    "        print(i, end=' ')  \n",
    "    i += 1"
   ]
  },
  {
   "cell_type": "code",
   "execution_count": null,
   "id": "6aeec2c3-a2da-4912-9518-a4d95905423a",
   "metadata": {},
   "outputs": [],
   "source": [
    "# 17. 자릿수 더하기_빈칸\n",
    "n = int(input())\n",
    "sum = 0\n",
    "\n",
    "while n!=0:# n이 0이 아닐 동안만 반복하도록 while문을 작성해보자\n",
    "    sum += n%10\n",
    "    n//=10\n",
    "\n",
    "print(sum)"
   ]
  },
  {
   "cell_type": "code",
   "execution_count": null,
   "id": "139bdbb6-d79f-4592-af19-71e30b25d398",
   "metadata": {},
   "outputs": [],
   "source": [
    "# 18. 자릿수 더하기\n",
    "n = int(input())\n",
    "sum = 0\n",
    "\n",
    "while n!=0:\n",
    "    sum += n%10\n",
    "    n//=10\n",
    "\n",
    "print(sum)"
   ]
  }
 ],
 "metadata": {
  "kernelspec": {
   "display_name": "Python 3 (ipykernel)",
   "language": "python",
   "name": "python3"
  },
  "language_info": {
   "codemirror_mode": {
    "name": "ipython",
    "version": 3
   },
   "file_extension": ".py",
   "mimetype": "text/x-python",
   "name": "python",
   "nbconvert_exporter": "python",
   "pygments_lexer": "ipython3",
   "version": "3.10.10"
  }
 },
 "nbformat": 4,
 "nbformat_minor": 5
}

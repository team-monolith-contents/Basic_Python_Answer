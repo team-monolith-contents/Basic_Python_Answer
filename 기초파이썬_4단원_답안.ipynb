{
 "cells": [
  {
   "cell_type": "markdown",
   "id": "176a6de4-2638-4d69-a237-1fac1557e1d0",
   "metadata": {},
   "source": [
    "### **💯 연습문제를 풀어봅시다**\n",
    "1. <a class=\"jcecodle-mk jcecodle-mk__problem-chip\" data-problem-id=\"_HOCFk8eIuw\" href='#jce-judge/open/_HOCFk8eIuw' target='_self'><span>절댓값 찾기1_빈칸</span></a>\n",
    "2. <a class=\"jcecodle-mk jcecodle-mk__problem-chip\" data-problem-id=\"LON4taNs-_g\" href='#jce-judge/open/LON4taNs-_g' target='_self'><span>절대값 찾기1</span></a>\n",
    "3. <a class=\"jcecodle-mk jcecodle-mk__problem-chip\" data-problem-id=\"Qaih1TKqbIE\" href='#jce-judge/open/Qaih1TKqbIE' target='_self'><span>간단한 조건문_빈칸</span></a>\n",
    "4. <a class=\"jcecodle-mk jcecodle-mk__problem-chip\" data-problem-id=\"pIFJ5MdnuSA\" href='#jce-judge/open/pIFJ5MdnuSA' target='_self'><span>간단한 조건문</span></a>\n",
    "5. <a class=\"jcecodle-mk jcecodle-mk__problem-chip\" data-problem-id=\"Lhlh0clpJ_0\" href='#jce-judge/open/Lhlh0clpJ_0' target='_self'><span>사랑해_빈칸</span></a>\n",
    "6. <a class=\"jcecodle-mk jcecodle-mk__problem-chip\" data-problem-id=\"n5R3LQwCikY\" href='#jce-judge/open/n5R3LQwCikY' target='_self'><span>사랑해</span></a>\n",
    "7. <a class=\"jcecodle-mk jcecodle-mk__problem-chip\" data-problem-id=\"2746BrA5jeE\" href='#jce-judge/open/2746BrA5jeE' target='_self'><span>정수의 참 거짓1_빈칸</span></a>\n",
    "8. <a class=\"jcecodle-mk jcecodle-mk__problem-chip\" data-problem-id=\"116\" href='#jce-judge/open/116' target='_self'><span>정수의 참 거짓1</span></a>\n",
    "9. <a class=\"jcecodle-mk jcecodle-mk__problem-chip\" data-problem-id=\"RLwHJkMxsMo\" href='#jce-judge/open/RLwHJkMxsMo' target='_self'><span>정수의 비교4_빈칸</span></a>\n",
    "10. <a class=\"jcecodle-mk jcecodle-mk__problem-chip\" data-problem-id=\"114\" href='#jce-judge/open/114' target='_self'><span>정수의 비교4</span></a>\n",
    "11. <a class=\"jcecodle-mk jcecodle-mk__problem-chip\" data-problem-id=\"zfL7X4Yb1dY\" href='#jce-judge/open/zfL7X4Yb1dY' target='_self'><span>성인여부와 성별_빈칸</span></a>\n",
    "12. <a class=\"jcecodle-mk jcecodle-mk__problem-chip\" data-problem-id=\"apet6B_EgNY\" href='#jce-judge/open/apet6B_EgNY' target='_self'><span>성인여부와 성별</span></a>\n",
    "13. <a class=\"jcecodle-mk jcecodle-mk__problem-chip\" data-problem-id=\"YLGpTxbUOfg\" href='#jce-judge/open/YLGpTxbUOfg' target='_self'><span>짝수 출력하기2_빈칸</span></a>\n",
    "14. <a class=\"jcecodle-mk jcecodle-mk__problem-chip\" data-problem-id=\"129\" href='#jce-judge/open/129' target='_self'><span>짝수 출력하기2</span></a>\n",
    "15. <a class=\"jcecodle-mk jcecodle-mk__problem-chip\" data-problem-id=\"1AtktUQdrU0\" href='#jce-judge/open/1AtktUQdrU0' target='_self'><span>정수의 종류_빈칸</span></a>\n",
    "16. <a class=\"jcecodle-mk jcecodle-mk__problem-chip\" data-problem-id=\"NHgDnYTwYPU\" href='#jce-judge/open/NHgDnYTwYPU' target='_self'><span>정수의 종류</span></a>\n",
    "17. <a class=\"jcecodle-mk jcecodle-mk__problem-chip\" data-problem-id=\"rlc7mn9Go2c\" href='#jce-judge/open/rlc7mn9Go2c' target='_self'><span>점수 등급 분류하기1_빈칸</span></a>\n",
    "18. <a class=\"jcecodle-mk jcecodle-mk__problem-chip\" data-problem-id=\"130\" href='#jce-judge/open/130' target='_self'><span>점수 등급 분류하기1</span></a>\n",
    "19. <a class=\"jcecodle-mk jcecodle-mk__problem-chip\" data-problem-id=\"h5SmpDZWEso\" href='#jce-judge/open/h5SmpDZWEso' target='_self'><span>이번 달은 무슨 계절일까요?_빈칸</span></a>\n",
    "20. <a class=\"jcecodle-mk jcecodle-mk__problem-chip\" data-problem-id=\"133\" href='#jce-judge/open/133' target='_self'><span>이번 달은 무슨 계절일까요?</span></a>"
   ]
  },
  {
   "cell_type": "code",
   "execution_count": null,
   "id": "baef70d7-eec0-43c9-a900-12edd0a1b12b",
   "metadata": {},
   "outputs": [],
   "source": [
    "# 1. 절댓값 찾기1_빈칸\n",
    "n = int(input())\n",
    "if n<0:# n이 음수인 경우를 if문을 사용하여 표현해보자\n",
    "    n = -n\n",
    "\n",
    "print(n)"
   ]
  },
  {
   "cell_type": "code",
   "execution_count": null,
   "id": "b20c00fc-ef7a-4323-b870-d96496cfc922",
   "metadata": {},
   "outputs": [],
   "source": [
    "# 2. 절대값 찾기1\n",
    "n = int(input())\n",
    "if n<0:\n",
    "    n = -n\n",
    "\n",
    "print(n)"
   ]
  },
  {
   "cell_type": "code",
   "execution_count": null,
   "id": "e6646aa9-0bb7-4b8a-917e-9b60252992be",
   "metadata": {},
   "outputs": [],
   "source": [
    "# 3. 간단한 조건문_빈칸\n",
    "n = int(input())\n",
    "res = n+20\n",
    "\n",
    "if res>255:# if문을 사용하여 res가 255을 넘을 경우 res에 255를 대입해보자\n",
    "    res = 255\n",
    "print(res)"
   ]
  },
  {
   "cell_type": "code",
   "execution_count": null,
   "id": "7981da90-f339-4de5-9586-efd8907714b4",
   "metadata": {},
   "outputs": [],
   "source": [
    "# 4. 간단한 조건문\n",
    "n = int(input())\n",
    "res = n+20\n",
    "\n",
    "if res>255:\n",
    "    res = 255\n",
    "print(res)"
   ]
  },
  {
   "cell_type": "code",
   "execution_count": null,
   "id": "d53a602e-9fa5-47c1-bf5e-05d1bbd29299",
   "metadata": {},
   "outputs": [],
   "source": [
    "# 5. 사랑해_빈칸\n",
    "s = input()\n",
    "\n",
    "if s=='love':# s가 'love'인 경우를 if문을 사용하여 표현해보자\n",
    "    print(\"I love you.\")"
   ]
  },
  {
   "cell_type": "code",
   "execution_count": null,
   "id": "abdfd672-1f09-4b28-b72e-f33da414814f",
   "metadata": {},
   "outputs": [],
   "source": [
    "# 6. 사랑해\n",
    "if input()=='love':\n",
    "    print(\"I love you.\")"
   ]
  },
  {
   "cell_type": "code",
   "execution_count": null,
   "id": "89ef31e0-c557-4db2-a979-a05b782ab383",
   "metadata": {},
   "outputs": [],
   "source": [
    "# 7. 정수의 참 거짓1_빈칸\n",
    "n = int(input())\n",
    "\n",
    "if n == 0:# a가 0인 경우를 if문을 사용하여 표현해보자\n",
    "    print(\"False\")\n",
    "else:# a가 0이 아닌 경우를 else문을 사용하여 표현해보자\n",
    "    print(\"True\")"
   ]
  },
  {
   "cell_type": "code",
   "execution_count": null,
   "id": "441be2b1-9981-4005-b0a1-b5c31e9d6c05",
   "metadata": {},
   "outputs": [],
   "source": [
    "# 8. 정수의 참 거짓1\n",
    "n = int(input())\n",
    "\n",
    "if n == 0:\n",
    "    print(\"False\")\n",
    "else:\n",
    "    print(\"True\")"
   ]
  },
  {
   "cell_type": "code",
   "execution_count": null,
   "id": "38aed770-1535-46c2-b807-3af7cba16dba",
   "metadata": {},
   "outputs": [],
   "source": [
    "# 9. 정수의 비교4_빈칸\n",
    "a, b = map(int, input().split())\n",
    "\n",
    "if a!=b:#a와 b가 다른 경우를 if문을 사용하여 표현해보자\n",
    "    print(\"True\")\n",
    "else:#a와 b가 같은 경우를 else문을 사용하여 표현해보자\n",
    "    print(\"False\")"
   ]
  },
  {
   "cell_type": "code",
   "execution_count": null,
   "id": "e41e946a-1608-434b-94bd-edd4c872ec9b",
   "metadata": {},
   "outputs": [],
   "source": [
    "# 10. 정수의 비교4\n",
    "a,b = input().split()\n",
    "if a != b:\n",
    "    print(True)\n",
    "else:\n",
    "    print(False)"
   ]
  },
  {
   "cell_type": "code",
   "execution_count": null,
   "id": "55f55ab8-ba85-4211-9b2c-710a6324b39f",
   "metadata": {},
   "outputs": [],
   "source": [
    "# 11. 성인여부와 성별_빈칸\n",
    "a, b = input().split()\n",
    "b = int(b)\n",
    "\n",
    "if a=='M':\n",
    "    # if-else문을 사용하여 b가 18이상일 때는 'MAN'을, 18미만일 때는 'BOY'를 출력해보자\n",
    "    if b>=18:\n",
    "        print('MAN')\n",
    "    else:\n",
    "        print('BOY')\n",
    "if a=='F':\n",
    "    # if-else문을 사용하여 b가 18이상일 때는 'WOMAN'을, 18미만일 때는 'GIRL'을 출력해보자\n",
    "    if b>=18:\n",
    "        print('WOMAN')\n",
    "    else:\n",
    "        print('GIRL')"
   ]
  },
  {
   "cell_type": "code",
   "execution_count": null,
   "id": "4a86c338-1d96-478d-bc21-fd27ad5572bd",
   "metadata": {},
   "outputs": [],
   "source": [
    "# 12. 성인여부와 성별\n",
    "a, b = input().split()\n",
    "b = int(b)\n",
    "\n",
    "if a=='M':\n",
    "    if b>=18:\n",
    "        print('MAN')\n",
    "    else:\n",
    "        print('BOY')\n",
    "if a=='F':\n",
    "    if b>=18:\n",
    "        print('WOMAN')\n",
    "    else:\n",
    "        print('GIRL')"
   ]
  },
  {
   "cell_type": "code",
   "execution_count": null,
   "id": "3b9e5812-2671-4329-93ac-1da193d4120b",
   "metadata": {},
   "outputs": [],
   "source": [
    "# 13. 짝수 출력하기2_빈칸\n",
    "a, b, c = map(int, input().split())\n",
    "\n",
    "if a%2 == 0: #a가 짝수인 경우\n",
    "    print(\"even\")\n",
    "else:\n",
    "    print(\"odd\")\n",
    "    \n",
    "if b%2==0:#위의 a의 사례를 참고하여 b가 짝수인 경우를 if문으로 표현해보자\n",
    "    print(\"even\")\n",
    "else:#b가 홀수인 경우를 else문으로 표현해보자\n",
    "    print(\"odd\")\n",
    "\n",
    "#위의 코드들을 참고하여 \n",
    "#c가 짝수일 때에는 'even'을, 홀수일 때에는 'odd'를 출력하는 조건문을 작성해보자\n",
    "if c%2==0:\n",
    "    print('even')\n",
    "else:\n",
    "    print('odd')"
   ]
  },
  {
   "cell_type": "code",
   "execution_count": null,
   "id": "d3609593-c3b5-4b88-ac43-f7ca5b5bd599",
   "metadata": {},
   "outputs": [],
   "source": [
    "# 14. 짝수 출력하기2\n",
    "a,b,c = map(int,input().split())\n",
    "\n",
    "if a % 2 == 0:\n",
    "    print(\"even\")\n",
    "else:\n",
    "    print(\"odd\")\n",
    "\n",
    "if b % 2 == 0:\n",
    "    print(\"even\")\n",
    "else:\n",
    "    print(\"odd\")\n",
    "\n",
    "if c % 2 == 0:\n",
    "    print(\"even\")\n",
    "else:\n",
    "    print(\"odd\")\n"
   ]
  },
  {
   "cell_type": "code",
   "execution_count": null,
   "id": "dd55d5ba-15da-4139-840f-3c6de5e5fc14",
   "metadata": {},
   "outputs": [],
   "source": [
    "# 15. 정수의 종류_빈칸\n",
    "n = int(input())\n",
    "\n",
    "if n>0:#n이 양수인 경우를 if문을 사용하여 표현해보자\n",
    "    print('positive')\n",
    "elif n==0:#n이 0인 경우를 elif문을 사용하여 표현해보자\n",
    "    print('zero')\n",
    "else:#n이 음수인 경우를 else문을 사용하여 표현해보자\n",
    "    print('negative')"
   ]
  },
  {
   "cell_type": "code",
   "execution_count": null,
   "id": "8c06f221-238d-4f7d-965e-7cd0b266aafb",
   "metadata": {},
   "outputs": [],
   "source": [
    "# 16. 정수의 종류\n",
    "n = int(input())\n",
    "\n",
    "if n>0:\n",
    "    print('positive')\n",
    "elif n==0:\n",
    "    print('zero')\n",
    "else:\n",
    "    print('negative')"
   ]
  },
  {
   "cell_type": "code",
   "execution_count": null,
   "id": "359c9fa0-d87d-4971-b6ac-05927d0e1763",
   "metadata": {},
   "outputs": [],
   "source": [
    "# 17. 점수 등급 분류하기1_빈칸\n",
    "a = int(input())\n",
    "\n",
    "if a >= 90: \n",
    "    print(\"A\")\n",
    "elif 70<=a<90:# 등급이 B인 경우를 elif문을 사용하여 표현해보자\n",
    "    print(\"B\")\n",
    "elif 40<=a<70:# 등급이 C인 경우를 elif문을 사용하여 표현해보자\n",
    "    print(\"C\")\n",
    "else:\n",
    "    print(\"F\")"
   ]
  },
  {
   "cell_type": "code",
   "execution_count": null,
   "id": "d9e81f39-e993-497d-a030-7c78320a234c",
   "metadata": {},
   "outputs": [],
   "source": [
    "# 18. 점수 등급 분류하기1\n",
    "a = int(input())\n",
    "\n",
    "if a >= 90:\n",
    "    print(\"A\")\n",
    "elif a >= 70:\n",
    "    print(\"B\")\n",
    "elif a >= 40:\n",
    "    print(\"C\")\n",
    "else:\n",
    "    print(\"F\")"
   ]
  },
  {
   "cell_type": "code",
   "execution_count": null,
   "id": "456da373-5590-4743-9ecf-344801f15d60",
   "metadata": {},
   "outputs": [],
   "source": [
    "# 19. 이번 달은 무슨 계절일까요?_빈칸\n",
    "mon = int(input())\n",
    "\n",
    "if mon==12 or mon==1 or mon==2:\n",
    "    print(\"winter\")\n",
    "elif mon==3 or mon==4 or mon==5:# mon이 3이나 4나 5인 경우를 elif문을 사용하여 표현해보자\n",
    "    print(\"spring\")\n",
    "elif mon==6 or mon==7 or mon==8:# mon이 6이나 7이나 8인 경우를 elif문을 사용하여 표현해보자\n",
    "    print(\"summer\")\n",
    "else:\n",
    "    print(\"fall\")"
   ]
  },
  {
   "cell_type": "code",
   "execution_count": null,
   "id": "06b31c15-5dfc-4cdc-be8e-499f3dc8b4eb",
   "metadata": {},
   "outputs": [],
   "source": [
    "# 20. 이번 달은 무슨 계절일까요?\n",
    "mon = int(input()) \n",
    "\n",
    "if mon == 12 or mon ==1 or mon==2: \n",
    "    print(\"winter\")\n",
    "elif mon == 3 or mon ==4 or mon==5: \n",
    "    print(\"spring\")\n",
    "elif mon == 6 or mon ==7 or mon==8: \n",
    "    print(\"summer\")\n",
    "else: \n",
    "    print(\"fall\")"
   ]
  }
 ],
 "metadata": {
  "kernelspec": {
   "display_name": "Python 3 (ipykernel)",
   "language": "python",
   "name": "python3"
  },
  "language_info": {
   "codemirror_mode": {
    "name": "ipython",
    "version": 3
   },
   "file_extension": ".py",
   "mimetype": "text/x-python",
   "name": "python",
   "nbconvert_exporter": "python",
   "pygments_lexer": "ipython3",
   "version": "3.10.10"
  }
 },
 "nbformat": 4,
 "nbformat_minor": 5
}

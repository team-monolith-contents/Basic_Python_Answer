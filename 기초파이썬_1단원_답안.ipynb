{
 "cells": [
  {
   "cell_type": "markdown",
   "id": "e7234e7a-a987-44ba-9bcf-181c8ada1ae1",
   "metadata": {
    "tags": []
   },
   "source": [
    "### **💯 연습문제를 풀어봅시다**\n",
    "1. <a class=\"jcecodle-mk jcecodle-mk__problem-chip\" data-problem-id=\"134\" href='#jce-judge/open/134' target='_self'><span>안녕, 코들 1</span></a>  \n",
    "2. <a class=\"jcecodle-mk jcecodle-mk__problem-chip\" data-problem-id=\"112\" href='#jce-judge/open/112' target='_self'><span>안녕, 코들 2</span></a>\n",
    "3. <a class=\"jcecodle-mk jcecodle-mk__problem-chip\" data-problem-id=\"132\" href='#jce-judge/open/132' target='_self'><span>안녕, 코들 3</span></a>  \n",
    "4. <a class=\"jcecodle-mk jcecodle-mk__problem-chip\" data-problem-id=\"_z3isqlorWA\" href='#jce-judge/open/_z3isqlorWA' target='_self'><span>3번 거절하기</span></a>\n",
    "5. <a class=\"jcecodle-mk jcecodle-mk__problem-chip\" data-problem-id=\"136\" href='#jce-judge/open/136' target='_self'><span>안녕, 코들 5</span></a>\n",
    "6. <a class=\"jcecodle-mk jcecodle-mk__problem-chip\" data-problem-id=\"177\" href='#jce-judge/open/177' target='_self'><span>특수 문자 출력하기 1</span></a>\n",
    "7. <a class=\"jcecodle-mk jcecodle-mk__problem-chip\" data-problem-id=\"PdAtxBFts8Y\" href='#jce-judge/open/PdAtxBFts8Y' target='_self'><span>집 짓기_빈칸</span></a>\n",
    "8. <a class=\"jcecodle-mk jcecodle-mk__problem-chip\" data-problem-id=\"1gEvl3sGVNI\" href='#jce-judge/open/1gEvl3sGVNI' target='_self'><span>집 짓기</span></a>\n"
   ]
  },
  {
   "cell_type": "code",
   "execution_count": null,
   "id": "baef70d7-eec0-43c9-a900-12edd0a1b12b",
   "metadata": {},
   "outputs": [],
   "source": [
    "# 1. 안녕, 코들1\n",
    "print('Codle')"
   ]
  },
  {
   "cell_type": "code",
   "execution_count": null,
   "id": "b20c00fc-ef7a-4323-b870-d96496cfc922",
   "metadata": {},
   "outputs": [],
   "source": [
    "# 2. 안녕, 코들2\n",
    "print('Hello Codle')"
   ]
  },
  {
   "cell_type": "code",
   "execution_count": null,
   "id": "e6646aa9-0bb7-4b8a-917e-9b60252992be",
   "metadata": {},
   "outputs": [],
   "source": [
    "# 3. 안녕, 코들3\n",
    "print('Hello')\n",
    "print('Codle')"
   ]
  },
  {
   "cell_type": "code",
   "execution_count": null,
   "id": "7981da90-f339-4de5-9586-efd8907714b4",
   "metadata": {},
   "outputs": [],
   "source": [
    "# 4. 3번 거절하기\n",
    "print('아닙니다.')\n",
    "print('괜찮습니다.')\n",
    "print('정말 괜찮습니다.')\n",
    "print('그럼 감사히 받겠습니다.')"
   ]
  },
  {
   "cell_type": "code",
   "execution_count": null,
   "id": "7fcf6620-14a7-434e-bde4-1cd836270824",
   "metadata": {},
   "outputs": [],
   "source": [
    "# 5. 안녕, 코들5\n",
    "print('\"Codle\"')"
   ]
  },
  {
   "cell_type": "code",
   "execution_count": null,
   "id": "19bf0dec-e79c-41e4-abb9-3867287f06dc",
   "metadata": {},
   "outputs": [],
   "source": [
    "# 6. 특수 문자 출력하기1\n",
    "print(\"\\'+_)(*&^%$#@!\\\"\")"
   ]
  },
  {
   "cell_type": "code",
   "execution_count": null,
   "id": "71d48a56-bc03-4798-b5fd-985f3a786a37",
   "metadata": {},
   "outputs": [],
   "source": [
    "# 7. 집 짓기_빈칸\n",
    "print(\"  // \\\\\\\\\")   #백슬래시가 출력될 수 있도록 코드를 수정해보자\n",
    "print(\" // O \\\\\\\\\")  #백슬래시가 출력될 수 있도록 코드를 수정해보자\n",
    "print(\"//     \\\\\\\\\") #백슬래시가 출력될 수 있도록 코드를 수정해보자\n",
    "print(\"=========\")\n",
    "print(\"|       |\")\n",
    "print(\"|   ___ |\")\n",
    "print(\"|   | | |\")\n",
    "print(\"=========\")"
   ]
  },
  {
   "cell_type": "code",
   "execution_count": null,
   "id": "f2e94bbd-aee3-49e4-9cc3-342a605f8558",
   "metadata": {},
   "outputs": [],
   "source": [
    "# 8. 집 짓기\n",
    "print(\"\"\"  // \\\\\\\\\n",
    " // O \\\\\\\\\n",
    "//     \\\\\\\\\n",
    "=========\n",
    "|       |\n",
    "|   ___ |\n",
    "|   | | |\n",
    "=========\"\"\")"
   ]
  }
 ],
 "metadata": {
  "kernelspec": {
   "display_name": "Python 3 (ipykernel)",
   "language": "python",
   "name": "python3"
  },
  "language_info": {
   "codemirror_mode": {
    "name": "ipython",
    "version": 3
   },
   "file_extension": ".py",
   "mimetype": "text/x-python",
   "name": "python",
   "nbconvert_exporter": "python",
   "pygments_lexer": "ipython3",
   "version": "3.10.10"
  }
 },
 "nbformat": 4,
 "nbformat_minor": 5
}

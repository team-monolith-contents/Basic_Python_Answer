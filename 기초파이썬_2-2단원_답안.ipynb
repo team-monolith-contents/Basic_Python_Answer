{
 "cells": [
  {
   "attachments": {},
   "cell_type": "markdown",
   "id": "3c9fef8c-35f4-481a-a580-6c25f0c07eb9",
   "metadata": {},
   "source": [
    "### **💯 연습문제를 풀어봅시다**\n",
    "1. <a class=\"jcecodle-mk jcecodle-mk__problem-chip\" data-problem-id=\"181\" href='#jce-judge/open/181' target='_self'><span>입력과 출력 2</span></a>\n",
    "2. <a class=\"jcecodle-mk jcecodle-mk__problem-chip\" data-problem-id=\"182\" href='#jce-judge/open/182' target='_self'><span>입력과 출력 3</span></a>\n",
    "3. <a class=\"jcecodle-mk jcecodle-mk__problem-chip\" data-problem-id=\"DG9yswoAhQY\" href='#jce-judge/open/DG9yswoAhQY' target='_self'><span>입력과 출력 4_빈칸</span></a>\n",
    "4. <a class=\"jcecodle-mk jcecodle-mk__problem-chip\" data-problem-id=\"183\" href='#jce-judge/open/183' target='_self'><span>입력과 출력 4</span></a>\n",
    "5. <a class=\"jcecodle-mk jcecodle-mk__problem-chip\" data-problem-id=\"xmA__PWyHdU\" href='#jce-judge/open/xmA__PWyHdU' target='_self'><span>덧셈1_빈칸</span></a>\n",
    "6. <a class=\"jcecodle-mk jcecodle-mk__problem-chip\" data-problem-id=\"D3Wyu0S0Ijo\" href='#jce-judge/open/D3Wyu0S0Ijo' target='_self'><span>두 수의 차_빈칸</span></a>\n",
    "7. <a class=\"jcecodle-mk jcecodle-mk__problem-chip\" data-problem-id=\"169\" href='#jce-judge/open/169' target='_self'><span>두 수의 곱</span></a>\n",
    "8. <a class=\"jcecodle-mk jcecodle-mk__problem-chip\" data-problem-id=\"200\" href='#jce-judge/open/200' target='_self'><span>몫 계산</span></a>\n",
    "9. <a class=\"jcecodle-mk jcecodle-mk__problem-chip\" data-problem-id=\"202\" href='#jce-judge/open/202' target='_self'><span>나머지 계산</span></a>\n",
    "10. <a class=\"jcecodle-mk jcecodle-mk__problem-chip\" data-problem-id=\"3TO0VQE0XR8\" href='#jce-judge/open/3TO0VQE0XR8' target='_self'><span>합과 평균_빈칸</span></a>\n",
    "11. <a class=\"jcecodle-mk jcecodle-mk__problem-chip\" data-problem-id=\"wRd8nGvTe1k\" href='#jce-judge/open/wRd8nGvTe1k' target='_self'><span>할인 비율 알아보기_빈칸</span></a>\n"
   ]
  },
  {
   "cell_type": "code",
   "execution_count": null,
   "id": "baef70d7-eec0-43c9-a900-12edd0a1b12b",
   "metadata": {},
   "outputs": [],
   "source": [
    "# 1. 입력과 출력 2\n",
    "print(int(input()))"
   ]
  },
  {
   "cell_type": "code",
   "execution_count": null,
   "id": "b20c00fc-ef7a-4323-b870-d96496cfc922",
   "metadata": {},
   "outputs": [],
   "source": [
    "# 2. 입력과 출력 3\n",
    "print(float(input()))"
   ]
  },
  {
   "cell_type": "code",
   "execution_count": null,
   "id": "e6646aa9-0bb7-4b8a-917e-9b60252992be",
   "metadata": {},
   "outputs": [],
   "source": [
    "# 3. 입력과 출력 4_빈칸\n",
    "n1 = int(input())#입력값을 정수형으로 변환하여 변수 n1에 저장해보자\n",
    "n2 = int(input())#입력값을 정수형으로 변환하여 변수 n2에 저장해보자\n",
    "print(n1, n2)"
   ]
  },
  {
   "cell_type": "code",
   "execution_count": null,
   "id": "7981da90-f339-4de5-9586-efd8907714b4",
   "metadata": {},
   "outputs": [],
   "source": [
    "# 4. 입력과 출력 4\n",
    "print(int(input()), int(input()))"
   ]
  },
  {
   "cell_type": "code",
   "execution_count": null,
   "id": "d53a602e-9fa5-47c1-bf5e-05d1bbd29299",
   "metadata": {},
   "outputs": [],
   "source": [
    "# 5. 덧셈1_빈칸\n",
    "n1,n2 = input().split()#split()함수를 활용하여 변수 n1, n2에 입력값을 저장해보자\n",
    "n1 = int(n1)\n",
    "n2 = int(n2)\n",
    "print(n1+n2)"
   ]
  },
  {
   "cell_type": "code",
   "execution_count": null,
   "id": "abdfd672-1f09-4b28-b72e-f33da414814f",
   "metadata": {},
   "outputs": [],
   "source": [
    "# 6. 두 수의 차_빈칸\n",
    "n1,n2 = input().split()#split()함수를 활용하여 변수 n1, n2에 입력값을 저장해보자\n",
    "n1,n2 = int(n1),int(n2)#n1, n2를 정수형으로 변환해주세요\n",
    "print(n1-n2)"
   ]
  },
  {
   "cell_type": "code",
   "execution_count": null,
   "id": "89ef31e0-c557-4db2-a979-a05b782ab383",
   "metadata": {},
   "outputs": [],
   "source": [
    "# 7. 두 수의 곱\n",
    "a,b  = map(float, input().split())\n",
    "print(a*b)"
   ]
  },
  {
   "cell_type": "code",
   "execution_count": null,
   "id": "441be2b1-9981-4005-b0a1-b5c31e9d6c05",
   "metadata": {},
   "outputs": [],
   "source": [
    "# 8. 몫 계산\n",
    "a,b = map(int,input().split())\n",
    "print(a//b)"
   ]
  },
  {
   "cell_type": "code",
   "execution_count": null,
   "id": "0c6062a7-5c14-41c3-9b18-467c36801f90",
   "metadata": {},
   "outputs": [],
   "source": [
    "# 9. 나머지 계산\n",
    "a,b = map(int,input().split())\n",
    "print(a % b)"
   ]
  },
  {
   "cell_type": "code",
   "execution_count": null,
   "id": "e1a8dca8-50d3-48b3-8f19-c3ad65152917",
   "metadata": {},
   "outputs": [],
   "source": [
    "# 10. 합과 평균_빈칸\n",
    "n1,n2,n3 = input().split()#split()함수를 활용하여 변수 n1, n2, n3에 입력값을 저장해보자\n",
    "n1 = int(n1)\n",
    "n2 = int(n2)\n",
    "n3 = int(n3)\n",
    "\n",
    "sum=n1+n2+n3#n1, n2, n3을 모두 더한 값 변수 sum에 저장해보자\n",
    "aver=sum/3#sum을 3으로 나누어 n1, n2, n3의 평균을 구하고, 변수 aver에 저장해보자\n",
    "\n",
    "print(sum)\n",
    "print(aver)"
   ]
  },
  {
   "cell_type": "code",
   "execution_count": null,
   "id": "5f29c659-8c07-42c1-bf61-37f5a0389bd4",
   "metadata": {},
   "outputs": [],
   "source": [
    "# 11. 할인 비율 알아보기_빈칸\n",
    "a,b=input().split()#split()함수를 활용하여 변수 a, b에 입력값을 저장해보자\n",
    "a,b=int(a),int(b)#a, b를 정수형으로 변환해보자\n",
    "\n",
    "dis = (a-b)/a*100#할인율을 계산하여 변수 dis에 저장해주세요.\n",
    "print(str(dis)+'%')"
   ]
  }
 ],
 "metadata": {
  "kernelspec": {
   "display_name": "Python 3 (ipykernel)",
   "language": "python",
   "name": "python3"
  },
  "language_info": {
   "codemirror_mode": {
    "name": "ipython",
    "version": 3
   },
   "file_extension": ".py",
   "mimetype": "text/x-python",
   "name": "python",
   "nbconvert_exporter": "python",
   "pygments_lexer": "ipython3",
   "version": "3.10.10"
  }
 },
 "nbformat": 4,
 "nbformat_minor": 5
}

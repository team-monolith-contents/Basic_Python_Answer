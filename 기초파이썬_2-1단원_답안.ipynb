{
 "cells": [
  {
   "cell_type": "markdown",
   "id": "e7234e7a-a987-44ba-9bcf-181c8ada1ae1",
   "metadata": {
    "tags": []
   },
   "source": [
    "### **💯 연습문제를 풀어봅시다**\n",
    "1. <a class=\"jcecodle-mk jcecodle-mk__problem-chip\" data-problem-id=\"180\" href='#jce-judge/open/180' target='_self'><span>입력과 출력 1</span></a>\n",
    "2. <a class=\"jcecodle-mk jcecodle-mk__problem-chip\" data-problem-id=\"Md5jQhE9eZ0\" href='#jce-judge/open/Md5jQhE9eZ0' target='_self'><span>친구 소개하기_빈칸</span></a>\n",
    "3. <a class=\"jcecodle-mk jcecodle-mk__problem-chip\" data-problem-id=\"utaaIQgBaek\" href='#jce-judge/open/utaaIQgBaek' target='_self'><span>친구 소개하기</span></a>\n",
    "4. <a class=\"jcecodle-mk jcecodle-mk__problem-chip\" data-problem-id=\"-LAh_ONiVXQ\" href='#jce-judge/open/-LAh_ONiVXQ' target='_self'><span>저승사자</span></a>"
   ]
  },
  {
   "cell_type": "code",
   "execution_count": null,
   "id": "baef70d7-eec0-43c9-a900-12edd0a1b12b",
   "metadata": {},
   "outputs": [],
   "source": [
    "# 1. 입력과 출력 1\n",
    "print(input())"
   ]
  },
  {
   "cell_type": "code",
   "execution_count": null,
   "id": "b20c00fc-ef7a-4323-b870-d96496cfc922",
   "metadata": {},
   "outputs": [],
   "source": [
    "# 2. 친구 소개하기_빈칸\n",
    "name = input()\n",
    "print('얘는 내 친구 '+name+'!')# '얘는 내 친구', name, '!' 세 문자열을 이어붙여 출력해보자"
   ]
  },
  {
   "cell_type": "code",
   "execution_count": null,
   "id": "e6646aa9-0bb7-4b8a-917e-9b60252992be",
   "metadata": {},
   "outputs": [],
   "source": [
    "# 3. 친구 소개하기\n",
    "print('얘는 내 친구 '+input()+'!')"
   ]
  },
  {
   "cell_type": "code",
   "execution_count": null,
   "id": "7981da90-f339-4de5-9586-efd8907714b4",
   "metadata": {},
   "outputs": [],
   "source": [
    "# 4. 저승사자\n",
    "print(input()*3)"
   ]
  }
 ],
 "metadata": {
  "kernelspec": {
   "display_name": "Python 3 (ipykernel)",
   "language": "python",
   "name": "python3"
  },
  "language_info": {
   "codemirror_mode": {
    "name": "ipython",
    "version": 3
   },
   "file_extension": ".py",
   "mimetype": "text/x-python",
   "name": "python",
   "nbconvert_exporter": "python",
   "pygments_lexer": "ipython3",
   "version": "3.10.10"
  }
 },
 "nbformat": 4,
 "nbformat_minor": 5
}

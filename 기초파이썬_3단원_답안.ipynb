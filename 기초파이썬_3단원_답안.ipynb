{
 "cells": [
  {
   "cell_type": "markdown",
   "id": "0a05e8b8-a70b-437a-b7c5-509061b2ea2f",
   "metadata": {},
   "source": [
    "### **💯 연습문제를 풀어봅시다**\n",
    "1. <a class=\"jcecodle-mk jcecodle-mk__problem-chip\" data-problem-id=\"V55VcIsKPio\" href='#jce-judge/open/V55VcIsKPio' target='_self'><span>리스트 값 수정1_빈칸</span></a>\n",
    "2. <a class=\"jcecodle-mk jcecodle-mk__problem-chip\" data-problem-id=\"pjctcNRCQnA\" href='#jce-judge/open/pjctcNRCQnA' target='_self'><span>리스트 값 수정2_빈칸</span></a>\n",
    "3. <a class=\"jcecodle-mk jcecodle-mk__problem-chip\" data-problem-id=\"209\" href='#jce-judge/open/209' target='_self'><span>List 기본 문제 1</span></a>\n",
    "4. <a class=\"jcecodle-mk jcecodle-mk__problem-chip\" data-problem-id=\"xyJ3ZdccCDQ\" href='#jce-judge/open/xyJ3ZdccCDQ' target='_self'><span>리스트 요소</span></a>\n",
    "5. <a class=\"jcecodle-mk jcecodle-mk__problem-chip\" data-problem-id=\"210\" href='#jce-judge/open/210' target='_self'><span>List 기본 문제 2 (최대값 출력하기)</span></a>\n",
    "6. <a class=\"jcecodle-mk jcecodle-mk__problem-chip\" data-problem-id=\"211\" href='#jce-judge/open/211' target='_self'><span>List 기본 문제 3 (최대값, 최소값 합 구하기)</span></a>\n",
    "7. <a class=\"jcecodle-mk jcecodle-mk__problem-chip\" data-problem-id=\"138\" href='#jce-judge/open/138' target='_self'><span>주민번호 분리하기</span></a>\n",
    "8. <a class=\"jcecodle-mk jcecodle-mk__problem-chip\" data-problem-id=\"192\" href='#jce-judge/open/192' target='_self'><span>지금은 몇 초?</span></a>\n"
   ]
  },
  {
   "cell_type": "code",
   "execution_count": null,
   "id": "baef70d7-eec0-43c9-a900-12edd0a1b12b",
   "metadata": {},
   "outputs": [],
   "source": [
    "# 1. 리스트 값 수정1_빈칸\n",
    "a = list(map(int, input().split()))\n",
    "n = int(input())\n",
    "\n",
    "a[0] = n#리스트 a의 인덱스 0번 요소를 n으로 변경해보자\n",
    "print(a)\n"
   ]
  },
  {
   "cell_type": "code",
   "execution_count": null,
   "id": "b20c00fc-ef7a-4323-b870-d96496cfc922",
   "metadata": {},
   "outputs": [],
   "source": [
    "# 2. 리스트 값 수정2_빈칸\n",
    "a=list(map(int,input().split()))# map함수를 활용하여 정수형 리스트를 입력받아보자\n",
    "n, m = map(int, input().split())\n",
    "\n",
    "a[n]=m#리스트 a의 인덱스 n번 요소를 m으로 변경해보자\n",
    "print(a)"
   ]
  },
  {
   "cell_type": "code",
   "execution_count": null,
   "id": "e6646aa9-0bb7-4b8a-917e-9b60252992be",
   "metadata": {},
   "outputs": [],
   "source": [
    "# 3. List 기본 문제 1\n",
    "a = list(input().split())\n",
    "print(int(a[1])+int(a[3]))"
   ]
  },
  {
   "cell_type": "code",
   "execution_count": null,
   "id": "7981da90-f339-4de5-9586-efd8907714b4",
   "metadata": {},
   "outputs": [],
   "source": [
    "# 4. 리스트 요소\n",
    "a = list(input().split())\n",
    "b = int(input())\n",
    "print(a[b])"
   ]
  },
  {
   "cell_type": "code",
   "execution_count": null,
   "id": "d53a602e-9fa5-47c1-bf5e-05d1bbd29299",
   "metadata": {},
   "outputs": [],
   "source": [
    "# 5. List 기본 문제 2 (최대값 출력하기)\n",
    "a = list(map(int,input().split()))\n",
    "print(max(a))"
   ]
  },
  {
   "cell_type": "code",
   "execution_count": null,
   "id": "abdfd672-1f09-4b28-b72e-f33da414814f",
   "metadata": {},
   "outputs": [],
   "source": [
    "# 6. List 기본 문제 3 (최대값, 최소값 합 구하기)\n",
    "a = list(map(int,input().split()))\n",
    "print(max(a)+min(a))"
   ]
  },
  {
   "cell_type": "code",
   "execution_count": null,
   "id": "89ef31e0-c557-4db2-a979-a05b782ab383",
   "metadata": {},
   "outputs": [],
   "source": [
    "# 7. 주민번호 분리하기\n",
    "a = list(input())\n",
    "print(a[0]+a[1]+a[2]+a[3]+a[4]+a[5])"
   ]
  },
  {
   "cell_type": "code",
   "execution_count": null,
   "id": "441be2b1-9981-4005-b0a1-b5c31e9d6c05",
   "metadata": {},
   "outputs": [],
   "source": [
    "# 8. 지금은 몇 초?\n",
    "a = list(input())\n",
    "print(a[6]+a[7])"
   ]
  }
 ],
 "metadata": {
  "kernelspec": {
   "display_name": "Python 3 (ipykernel)",
   "language": "python",
   "name": "python3"
  },
  "language_info": {
   "codemirror_mode": {
    "name": "ipython",
    "version": 3
   },
   "file_extension": ".py",
   "mimetype": "text/x-python",
   "name": "python",
   "nbconvert_exporter": "python",
   "pygments_lexer": "ipython3",
   "version": "3.10.10"
  }
 },
 "nbformat": 4,
 "nbformat_minor": 5
}

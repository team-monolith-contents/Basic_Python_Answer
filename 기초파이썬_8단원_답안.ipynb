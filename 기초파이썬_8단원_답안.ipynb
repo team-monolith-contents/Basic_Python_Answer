{
 "cells": [
  {
   "cell_type": "markdown",
   "id": "4d052cea-da5c-4726-9f15-dae13721742e",
   "metadata": {},
   "source": [
    "### **💯 연습문제를 풀어봅시다**\n",
    "1. <a class=\"jcecodle-mk jcecodle-mk__problem-chip\" data-problem-id=\"k0nLqK9j-SQ\" href='#jce-judge/open/k0nLqK9j-SQ' target='_self'><span>미션: 레드팀vs블루팀(3)_빈칸</span></a>\n",
    "2. <a class=\"jcecodle-mk jcecodle-mk__problem-chip\" data-problem-id=\"oV1U1FaZnVg\" href='#jce-judge/open/oV1U1FaZnVg' target='_self'><span>미션: 레드팀vs블루팀(3)</span></a>\n",
    "3. <a class=\"jcecodle-mk jcecodle-mk__problem-chip\" data-problem-id=\"U0wqQVajig4\" href='#jce-judge/open/U0wqQVajig4' target='_self'><span>미션: 초밥자판기_기초_빈칸</span></a>\n",
    "4. <a class=\"jcecodle-mk jcecodle-mk__problem-chip\" data-problem-id=\"VWtFoa_0JqM\" href='#jce-judge/open/VWtFoa_0JqM' target='_self'><span>미션: 초밥자판기_기초</span></a>\n",
    "5. <a class=\"jcecodle-mk jcecodle-mk__problem-chip\" data-problem-id=\"gua8tg-N91w\" href='#jce-judge/open/gua8tg-N91w' target='_self'><span>정삼각형 높이_빈칸</span></a>\n",
    "6. <a class=\"jcecodle-mk jcecodle-mk__problem-chip\" data-problem-id=\"S4JWipo6IJ0\" href='#jce-judge/open/S4JWipo6IJ0' target='_self'><span>정삼각형 높이</span></a>\n",
    "7. <a class=\"jcecodle-mk jcecodle-mk__problem-chip\" data-problem-id=\"sORBgEZdDl8\" href='#jce-judge/open/sORBgEZdDl8' target='_self'><span>거듭제곱1_빈칸</span></a>\n",
    "8. <a class=\"jcecodle-mk jcecodle-mk__problem-chip\" data-problem-id=\"174\" href='#jce-judge/open/174' target='_self'><span>거듭제곱1</span></a>\n",
    "9. <a class=\"jcecodle-mk jcecodle-mk__problem-chip\" data-problem-id=\"ERQ39M8tZes\" href='#jce-judge/open/ERQ39M8tZes' target='_self'><span>파이 출력하기_빈칸</span></a>\n",
    "10. <a class=\"jcecodle-mk jcecodle-mk__problem-chip\" data-problem-id=\"l1pCMNI8xAM\" href='#jce-judge/open/l1pCMNI8xAM' target='_self'><span>파이 출력하기</span></a>\n",
    "11. <a class=\"jcecodle-mk jcecodle-mk__problem-chip\" data-problem-id=\"ePuZhr33K1w\" href='#jce-judge/open/ePuZhr33K1w' target='_self'><span>절댓값 찾기1_빈칸</span></a>\n",
    "12. <a class=\"jcecodle-mk jcecodle-mk__problem-chip\" data-problem-id=\"LON4taNs-_g\" href='#jce-judge/open/LON4taNs-_g' target='_self'><span>절대값 찾기1</span></a>\n",
    "13. <a class=\"jcecodle-mk jcecodle-mk__problem-chip\" data-problem-id=\"VO57P-TiDmk\" href='#jce-judge/open/VO57P-TiDmk' target='_self'><span>가장 작은 수는??_빈칸</span></a>\n",
    "14. <a class=\"jcecodle-mk jcecodle-mk__problem-chip\" data-problem-id=\"126\" href='#jce-judge/open/126' target='_self'><span>가장 작은 수는??</span></a>\n",
    "15. <a class=\"jcecodle-mk jcecodle-mk__problem-chip\" data-problem-id=\"v0F5ZBje6sQ\" href='#jce-judge/open/v0F5ZBje6sQ' target='_self'><span>반올림_빈칸</span></a>\n",
    "16. <a class=\"jcecodle-mk jcecodle-mk__problem-chip\" data-problem-id=\"203\" href='#jce-judge/open/203' target='_self'><span>반올림</span></a>\n",
    "\n",
    "\n"
   ]
  },
  {
   "cell_type": "code",
   "execution_count": null,
   "id": "baef70d7-eec0-43c9-a900-12edd0a1b12b",
   "metadata": {},
   "outputs": [],
   "source": [
    "# 1. 미션: 레드팀vs블루팀(3)_빈칸\n",
    "import random#random 모듈을 import해보자\n",
    "random.seed(20)\n",
    "\n",
    "students = ['찬민', '한주', '담도', '성민', '용윤', '레이', '우상', '노윤', '웅준', '윤서', '인서', '한승', '사비', '원재', '윤하', '현서', '연지', '하주', '윤지', '서현', '은예', '예지', '정현', '진현', ]\n",
    "red = []\n",
    "\n",
    "red = random.sample(students,12)#students에서 랜덤으로 12명을 뽑아 red팀에 넣어보자\n",
    "for i in red:\n",
    "    students.remove(i)#students에서 red팀원들의 이름을 제거해보자\n",
    "blue = students\n",
    "\n",
    "print(red)\n",
    "print(blue)"
   ]
  },
  {
   "cell_type": "code",
   "execution_count": null,
   "id": "b20c00fc-ef7a-4323-b870-d96496cfc922",
   "metadata": {},
   "outputs": [],
   "source": [
    "# 2. 미션: 레드팀vs블루팀(3)\n",
    "import random\n",
    "random.seed(20)\n",
    "\n",
    "students = ['찬민', '한주', '담도', '성민', '용윤', '레이', '우상', '노윤', '웅준', '윤서', '인서', '한승', '사비', '원재', '윤하', '현서', '연지', '하주', '윤지', '서현', '은예', '예지', '정현', '진현', ]\n",
    "red = []\n",
    "\n",
    "red = random.sample(students,12)\n",
    "for i in red:\n",
    "    students.remove(i)\n",
    "blue = students\n",
    "\n",
    "print(red)\n",
    "print(blue)"
   ]
  },
  {
   "cell_type": "code",
   "execution_count": null,
   "id": "e6646aa9-0bb7-4b8a-917e-9b60252992be",
   "metadata": {},
   "outputs": [],
   "source": [
    "# 3. 미션: 초밥자판기_기초_빈칸\n",
    "import random#random 모듈을 import해보자\n",
    "random.seed(20)\n",
    "\n",
    "chobap = ['새우', '연어', '장어', '타코와사비', '육회', '광어', '참치', '계란말이', '생새우', '전어']\n",
    "answer = ''\n",
    "\n",
    "while True:\n",
    "    many = int(input())\n",
    "    print(random.sample(chobap,many))#many에 입력된 개수만큼 초밥을 랜덤으로 뽑아 출력해보자\n",
    "    answer = input(\"주문을 계속하시겠습니까?\")\n",
    "    if answer == 'stop':#if문과 break를 사용하여 answer가 'stop'일 경우 반복문이 종료되도록 해보자\n",
    "        break"
   ]
  },
  {
   "cell_type": "code",
   "execution_count": null,
   "id": "7981da90-f339-4de5-9586-efd8907714b4",
   "metadata": {},
   "outputs": [],
   "source": [
    "# 4. 미션: 초밥자판기_기초\n",
    "import random\n",
    "random.seed(20)\n",
    "\n",
    "chobap = ['새우', '연어', '장어', '타코와사비', '육회', '광어', '참치', '계란말이', '생새우', '전어']\n",
    "answer = ''\n",
    "\n",
    "while True:\n",
    "    many = int(input())\n",
    "    print(random.sample(chobap,many))\n",
    "    answer = input(\"주문을 계속하시겠습니까?\")\n",
    "    if answer == 'stop':\n",
    "        break"
   ]
  },
  {
   "cell_type": "code",
   "execution_count": null,
   "id": "d53a602e-9fa5-47c1-bf5e-05d1bbd29299",
   "metadata": {},
   "outputs": [],
   "source": [
    "# 5. 정삼각형 높이_빈칸\n",
    "import math#math모듈을 import해보자\n",
    "a = int(input())\n",
    "print(a/2*math.sqrt(3))#math모듈의 sqrt를 활용하여 삼각형의 높이를 출력해보자"
   ]
  },
  {
   "cell_type": "code",
   "execution_count": null,
   "id": "abdfd672-1f09-4b28-b72e-f33da414814f",
   "metadata": {},
   "outputs": [],
   "source": [
    "# 6. 정삼각형 높이\n",
    "import math\n",
    "print(int(input())/2*math.sqrt(3))"
   ]
  },
  {
   "cell_type": "code",
   "execution_count": null,
   "id": "89ef31e0-c557-4db2-a979-a05b782ab383",
   "metadata": {},
   "outputs": [],
   "source": [
    "# 7. 거듭제곱1_빈칸\n",
    "import math#math모듈을 import해보자\n",
    "a, b = map(int, input().split())\n",
    "res = math.pow(a,b)#math모듈의 pow를 활용하여 a의 b제곱을 변수 res에 저장해보자\n",
    "\n",
    "print(int(res))"
   ]
  },
  {
   "cell_type": "code",
   "execution_count": null,
   "id": "441be2b1-9981-4005-b0a1-b5c31e9d6c05",
   "metadata": {},
   "outputs": [],
   "source": [
    "# 8. 거듭제곱1\n",
    "import math\n",
    "a, b = map(int, input().split())\n",
    "res = math.pow(a,b)\n",
    "\n",
    "print(int(res))"
   ]
  },
  {
   "cell_type": "code",
   "execution_count": null,
   "id": "38aed770-1535-46c2-b807-3af7cba16dba",
   "metadata": {},
   "outputs": [],
   "source": [
    "# 9. 파이 출력하기_빈칸\n",
    "import math#math모듈을 import해보자\n",
    "n = int(input())\n",
    "print(round(math.pi,n))#math모듈의 pi와 내장함수 round를 활용하여 \n",
    "#소수점 n+1자리에서 반올림한 파이값을 출력해보자"
   ]
  },
  {
   "cell_type": "code",
   "execution_count": null,
   "id": "e41e946a-1608-434b-94bd-edd4c872ec9b",
   "metadata": {},
   "outputs": [],
   "source": [
    "# 10. 파이 출력하기\n",
    "import math\n",
    "n = int(input())\n",
    "print(round(math.pi,n)) "
   ]
  },
  {
   "cell_type": "code",
   "execution_count": null,
   "id": "55f55ab8-ba85-4211-9b2c-710a6324b39f",
   "metadata": {},
   "outputs": [],
   "source": [
    "# 11. 절댓값 찾기1_빈칸\n",
    "n = int(input())\n",
    "print(abs(n))#abs함수를 활용하여 n의 절댓값을 출력해보자"
   ]
  },
  {
   "cell_type": "code",
   "execution_count": null,
   "id": "4a86c338-1d96-478d-bc21-fd27ad5572bd",
   "metadata": {},
   "outputs": [],
   "source": [
    "# 12. 절댓값 찾기1\n",
    "print(abs(int(input())))"
   ]
  },
  {
   "cell_type": "code",
   "execution_count": null,
   "id": "3b9e5812-2671-4329-93ac-1da193d4120b",
   "metadata": {},
   "outputs": [],
   "source": [
    "# 13. 가장 작은 수는??_빈칸\n",
    "a= list(map(int,input().split()))\n",
    "print(min(a))#min함수를 활용하여 a의 요소 중 최솟값을 출력해보자"
   ]
  },
  {
   "cell_type": "code",
   "execution_count": null,
   "id": "d3609593-c3b5-4b88-ac43-f7ca5b5bd599",
   "metadata": {},
   "outputs": [],
   "source": [
    "# 14. 가장 작은 수는??\n",
    "print(min(list(map(int,input().split()))))"
   ]
  },
  {
   "cell_type": "code",
   "execution_count": null,
   "id": "696c00f8-0817-4afb-8a39-a083e6039d49",
   "metadata": {},
   "outputs": [],
   "source": [
    "# 15. 반올림_빈칸\n",
    "a = float(input())\n",
    "print(round(a,2))#round함수를 활용하여 a를 소숫점 이하 두번째 자리까지만 출력해보자"
   ]
  },
  {
   "cell_type": "code",
   "execution_count": null,
   "id": "6277ba2a-df3f-4391-8f53-becfddb53dc2",
   "metadata": {},
   "outputs": [],
   "source": [
    "# 16. 반올림\n",
    "print(round(float(input()),2))"
   ]
  }
 ],
 "metadata": {
  "kernelspec": {
   "display_name": "Python 3 (ipykernel)",
   "language": "python",
   "name": "python3"
  },
  "language_info": {
   "codemirror_mode": {
    "name": "ipython",
    "version": 3
   },
   "file_extension": ".py",
   "mimetype": "text/x-python",
   "name": "python",
   "nbconvert_exporter": "python",
   "pygments_lexer": "ipython3",
   "version": "3.10.10"
  }
 },
 "nbformat": 4,
 "nbformat_minor": 5
}

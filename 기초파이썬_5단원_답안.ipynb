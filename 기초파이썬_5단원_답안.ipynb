{
 "cells": [
  {
   "cell_type": "markdown",
   "id": "1760982f-624e-4cf1-81d2-45fdc2d361cc",
   "metadata": {
    "tags": []
   },
   "source": [
    "### **💯 연습문제를 풀어봅시다**\n",
    "1. <a class=\"jcecodle-mk jcecodle-mk__problem-chip\" data-problem-id=\"oTXY4zvrBMU\" href='#jce-judge/open/oTXY4zvrBMU' target='_self'><span>양수만 출력하기_빈칸</span></a>\n",
    "2. <a class=\"jcecodle-mk jcecodle-mk__problem-chip\" data-problem-id=\"tuSLVDtmh0g\" href='#jce-judge/open/tuSLVDtmh0g' target='_self'><span>양수만 출력하기</span></a>\n",
    "3. <a class=\"jcecodle-mk jcecodle-mk__problem-chip\" data-problem-id=\"8ma7rlFOXAg\" href='#jce-judge/open/8ma7rlFOXAg' target='_self'><span>온점의 개수_빈칸</span></a>\n",
    "4. <a class=\"jcecodle-mk jcecodle-mk__problem-chip\" data-problem-id=\"eL41en1SNus\" href='#jce-judge/open/eL41en1SNus' target='_self'><span>온점의 개수</span></a>\n",
    "5. <a class=\"jcecodle-mk jcecodle-mk__problem-chip\" data-problem-id=\"PrSFzs-9pTw\" href='#jce-judge/open/PrSFzs-9pTw' target='_self'><span>카운트다운1_빈칸</span></a>\n",
    "6. <a class=\"jcecodle-mk jcecodle-mk__problem-chip\" data-problem-id=\"137\" href='#jce-judge/open/137' target='_self'><span>카운트다운1</span></a>\n",
    "7. <a class=\"jcecodle-mk jcecodle-mk__problem-chip\" data-problem-id=\"I8Zmf8XIIXQ\" href='#jce-judge/open/I8Zmf8XIIXQ' target='_self'><span>카운트다운2_빈칸</span></a>\n",
    "8. <a class=\"jcecodle-mk jcecodle-mk__problem-chip\" data-problem-id=\"139\" href='#jce-judge/open/139' target='_self'><span>카운트다운2</span></a>\n",
    "9. <a class=\"jcecodle-mk jcecodle-mk__problem-chip\" data-problem-id=\"L1fbkK6Xjh0\" href='#jce-judge/open/L1fbkK6Xjh0' target='_self'><span>별의 위치는?_빈칸</span></a>\n",
    "10. <a class=\"jcecodle-mk jcecodle-mk__problem-chip\" data-problem-id=\"wV5UIG59IF4\" href='#jce-judge/open/wV5UIG59IF4' target='_self'><span>별의 위치는?</span></a>\n",
    "11. <a class=\"jcecodle-mk jcecodle-mk__problem-chip\" data-problem-id=\"zAA-8lTMEXo\" href='#jce-judge/open/zAA-8lTMEXo' target='_self'><span>짝수 합 구하기_빈칸</span></a>\n",
    "12. <a class=\"jcecodle-mk jcecodle-mk__problem-chip\" data-problem-id=\"147\" href='#jce-judge/open/147' target='_self'><span>짝수 합 구하기</span></a>\n",
    "13. <a class=\"jcecodle-mk jcecodle-mk__problem-chip\" data-problem-id=\"GRlj6s-TaG8\" href='#jce-judge/open/GRlj6s-TaG8' target='_self'><span>패턴 출력하기1_빈칸</span></a>\n",
    "14. <a class=\"jcecodle-mk jcecodle-mk__problem-chip\" data-problem-id=\"2F3_H6qZUL8\" href='#jce-judge/open/2F3_H6qZUL8' target='_self'><span>패턴 출력하기1</span></a>"
   ]
  },
  {
   "cell_type": "code",
   "execution_count": null,
   "id": "baef70d7-eec0-43c9-a900-12edd0a1b12b",
   "metadata": {},
   "outputs": [],
   "source": [
    "# 1. 양수만 출력하기_빈칸\n",
    "a = list(map(int, input().split()))\n",
    "\n",
    "for i in a:#for문을 사용하여 리스트 a의 요소들을 i에 받아 반복문을 작성해보자\n",
    "    if i>0:\n",
    "        print(i)"
   ]
  },
  {
   "cell_type": "code",
   "execution_count": null,
   "id": "b20c00fc-ef7a-4323-b870-d96496cfc922",
   "metadata": {},
   "outputs": [],
   "source": [
    "# 2. 양수만 출력하기\n",
    "a = list(map(int, input().split()))\n",
    "\n",
    "for i in a:\n",
    "    if i>0:\n",
    "        print(i)"
   ]
  },
  {
   "cell_type": "code",
   "execution_count": null,
   "id": "e6646aa9-0bb7-4b8a-917e-9b60252992be",
   "metadata": {},
   "outputs": [],
   "source": [
    "# 3. 온점의 개수_빈칸\n",
    "a = input()\n",
    "cnt = 0\n",
    "\n",
    "for i in a:#for문을 사용하여 문자열 a의 문자들을 i에 받아 반복문을 작성해보자 \n",
    "    if i=='.':\n",
    "        cnt += 1\n",
    "print(cnt)"
   ]
  },
  {
   "cell_type": "code",
   "execution_count": null,
   "id": "7981da90-f339-4de5-9586-efd8907714b4",
   "metadata": {},
   "outputs": [],
   "source": [
    "# 4. 온점의 개수\n",
    "a = input()\n",
    "cnt = 0\n",
    "\n",
    "for i in a: \n",
    "    if i=='.':\n",
    "        cnt += 1\n",
    "print(cnt)"
   ]
  },
  {
   "cell_type": "code",
   "execution_count": null,
   "id": "d53a602e-9fa5-47c1-bf5e-05d1bbd29299",
   "metadata": {},
   "outputs": [],
   "source": [
    "# 5. 카운트다운1_빈칸\n",
    "n = int(input())\n",
    "\n",
    "for i in range(n,-1,-1):#변화량 -1로 n부터 0까지를 순회하는 반복문을 for문과 range함수를 활용하여 작성해보자\n",
    "    print(i)"
   ]
  },
  {
   "cell_type": "code",
   "execution_count": null,
   "id": "abdfd672-1f09-4b28-b72e-f33da414814f",
   "metadata": {},
   "outputs": [],
   "source": [
    "# 6. 카운트다운1\n",
    "n = int(input())\n",
    "\n",
    "for i in range(n,-1,-1):\n",
    "    print(i)"
   ]
  },
  {
   "cell_type": "code",
   "execution_count": null,
   "id": "89ef31e0-c557-4db2-a979-a05b782ab383",
   "metadata": {},
   "outputs": [],
   "source": [
    "# 7. 카운트다운2_빈칸\n",
    "n = int(input())\n",
    "\n",
    "for i in range(n+1):#변화량 1로 0부터 n까지를 순회하는 반복문을 for문과 range함수를 활용하여 작성해보자\n",
    "    print(i)"
   ]
  },
  {
   "cell_type": "code",
   "execution_count": null,
   "id": "441be2b1-9981-4005-b0a1-b5c31e9d6c05",
   "metadata": {},
   "outputs": [],
   "source": [
    "# 8. 카운트다운2\n",
    "n = int(input())\n",
    "\n",
    "for i in range(n+1):\n",
    "    print(i)"
   ]
  },
  {
   "cell_type": "code",
   "execution_count": null,
   "id": "38aed770-1535-46c2-b807-3af7cba16dba",
   "metadata": {},
   "outputs": [],
   "source": [
    "# 9. 별의 위치는?_빈칸\n",
    "a = input().split()\n",
    "\n",
    "#len(a)는 a요소의 개수를 나타냅니다. \n",
    "for i in range(len(a)):#0에서 len(a)-1까지를 순회하는 반복문을 for문과 range함수를 활용하여 작성해보자\n",
    "    if a[i] =='*':#리스트의 i인덱스에 있는 요소가 '*'인 경우를 if문을 사용하여 표현해보자\n",
    "        print(i+1)"
   ]
  },
  {
   "cell_type": "code",
   "execution_count": null,
   "id": "e41e946a-1608-434b-94bd-edd4c872ec9b",
   "metadata": {},
   "outputs": [],
   "source": [
    "# 10. 별의 위치는?\n",
    "a = input().split()\n",
    "\n",
    "for i in range(len(a)):\n",
    "    if a[i] =='*':\n",
    "        print(i+1)"
   ]
  },
  {
   "cell_type": "code",
   "execution_count": null,
   "id": "55f55ab8-ba85-4211-9b2c-710a6324b39f",
   "metadata": {},
   "outputs": [],
   "source": [
    "# 11. 짝수 합 구하기_빈칸\n",
    "n = int(input())\n",
    "sum = 0\n",
    "\n",
    "for i in range(1,n+1):# 1에서 n까지 순회하도록 for문을 작성해보자\n",
    "    if i%2 == 0:# i가 짝수인 경우 sum에 i를 더해주는 조건문을 작성해보자\n",
    "        sum += i\n",
    "        \n",
    "print(sum)"
   ]
  },
  {
   "cell_type": "code",
   "execution_count": null,
   "id": "4a86c338-1d96-478d-bc21-fd27ad5572bd",
   "metadata": {},
   "outputs": [],
   "source": [
    "# 12. 짝수 합 구하기\n",
    "a = int(input())\n",
    "\n",
    "sum = 0\n",
    "for i in range(0, a + 1,2):\n",
    "    sum += i\n",
    "print(sum)"
   ]
  },
  {
   "cell_type": "code",
   "execution_count": null,
   "id": "3b9e5812-2671-4329-93ac-1da193d4120b",
   "metadata": {},
   "outputs": [],
   "source": [
    "# 13. 패턴 출력하기1_빈칸\n",
    "n = int(input())\n",
    "\n",
    "for i in range(n):#세로 길이 n만큼 반복하도록 for문을 작성해보자\n",
    "    for j in range(n):#가로 길이 n만큼 반복하도록 for문을 작성해보자\n",
    "        print(\"*\", end = ' ')\n",
    "    print()"
   ]
  },
  {
   "cell_type": "code",
   "execution_count": null,
   "id": "d3609593-c3b5-4b88-ac43-f7ca5b5bd599",
   "metadata": {},
   "outputs": [],
   "source": [
    "# 14. 패턴 출력하기1\n",
    "n = int(input())\n",
    "\n",
    "for i in range(n):#\n",
    "    for j in range(n):#\n",
    "        print(\"*\", end = ' ')\n",
    "    print()"
   ]
  }
 ],
 "metadata": {
  "kernelspec": {
   "display_name": "Python 3 (ipykernel)",
   "language": "python",
   "name": "python3"
  },
  "language_info": {
   "codemirror_mode": {
    "name": "ipython",
    "version": 3
   },
   "file_extension": ".py",
   "mimetype": "text/x-python",
   "name": "python",
   "nbconvert_exporter": "python",
   "pygments_lexer": "ipython3",
   "version": "3.10.10"
  }
 },
 "nbformat": 4,
 "nbformat_minor": 5
}

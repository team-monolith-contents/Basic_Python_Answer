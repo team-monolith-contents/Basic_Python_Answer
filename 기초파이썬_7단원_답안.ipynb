{
 "cells": [
  {
   "cell_type": "markdown",
   "id": "423b3af7-de6b-42b8-b519-f4940a981c09",
   "metadata": {
    "tags": []
   },
   "source": [
    "### **💯 연습문제를 풀어봅시다**\n",
    "1. <a class=\"jcecodle-mk jcecodle-mk__problem-chip\" data-problem-id=\"Q0A6ykpTPKE\" href='#jce-judge/open/Q0A6ykpTPKE' target='_self'><span>이상한 기호 여러번 출력하기_빈칸</span></a>\n",
    "2. <a class=\"jcecodle-mk jcecodle-mk__problem-chip\" data-problem-id=\"ZJMt1p8lTUA\" href='#jce-judge/open/ZJMt1p8lTUA' target='_self'><span>이상한 기호 여러번 출력하기</span></a>\n",
    "3. <a class=\"jcecodle-mk jcecodle-mk__problem-chip\" data-problem-id=\"c6_hKp8vzng\" href='#jce-judge/open/c6_hKp8vzng' target='_self'><span>몫 계산(함수)_빈칸</span></a>\n",
    "4. <a class=\"jcecodle-mk jcecodle-mk__problem-chip\" data-problem-id=\"tlnrFphOU9E\" href='#jce-judge/open/tlnrFphOU9E' target='_self'><span>몫 계산(함수)</span></a>\n",
    "5. <a class=\"jcecodle-mk jcecodle-mk__problem-chip\" data-problem-id=\"PeF1qTevri8\" href='#jce-judge/open/PeF1qTevri8' target='_self'><span>합과 평균(함수)_빈칸</span></a>\n",
    "6. <a class=\"jcecodle-mk jcecodle-mk__problem-chip\" data-problem-id=\"Y0ufNXFAu8k\" href='#jce-judge/open/Y0ufNXFAu8k' target='_self'><span>합과 평균(함수)</span></a>\n",
    "7. <a class=\"jcecodle-mk jcecodle-mk__problem-chip\" data-problem-id=\"4vZ2gPVZ99s\" href='#jce-judge/open/4vZ2gPVZ99s' target='_self'><span>점수 등급 분류하기2(함수)_빈칸</span></a>\n",
    "8. <a class=\"jcecodle-mk jcecodle-mk__problem-chip\" data-problem-id=\"gNv6f41UeSY\" href='#jce-judge/open/gNv6f41UeSY' target='_self'><span>점수 등급 분류하기2(함수)</span></a>\n",
    "9. <a class=\"jcecodle-mk jcecodle-mk__problem-chip\" data-problem-id=\"CFt_m8XVR9A\" href='#jce-judge/open/CFt_m8XVR9A' target='_self'><span>리스트의 최댓값(함수)_빈칸</span></a>\n",
    "10. <a class=\"jcecodle-mk jcecodle-mk__problem-chip\" data-problem-id=\"W-FJJzGBDp8\" href='#jce-judge/open/W-FJJzGBDp8' target='_self'><span>리스트의 최댓값(함수)</span></a>\n",
    "11. <a class=\"jcecodle-mk jcecodle-mk__problem-chip\" data-problem-id=\"3AM8NI5Z7-U\" href='#jce-judge/open/3AM8NI5Z7-U' target='_self'><span>값 찾기(함수)_빈칸</span></a>\n",
    "12. <a class=\"jcecodle-mk jcecodle-mk__problem-chip\" data-problem-id=\"W8LMT8JImb0\" href='#jce-judge/open/W8LMT8JImb0' target='_self'><span>값 찾기(함수)</span></a>\n",
    "13. <a class=\"jcecodle-mk jcecodle-mk__problem-chip\" data-problem-id=\"ss8ILt3oVj0\" href='#jce-judge/open/ss8ILt3oVj0' target='_self'><span>n까지의 합(함수)_빈칸</span></a>\n",
    "14. <a class=\"jcecodle-mk jcecodle-mk__problem-chip\" data-problem-id=\"jjTqDejHL2E\" href='#jce-judge/open/jjTqDejHL2E' target='_self'><span>n까지의 합(함수)</span></a>\n",
    "15. <a class=\"jcecodle-mk jcecodle-mk__problem-chip\" data-problem-id=\"L8ufe286tuQ\" href='#jce-judge/open/L8ufe286tuQ' target='_self'><span>swap(함수)_빈칸</span></a>\n",
    "16. <a class=\"jcecodle-mk jcecodle-mk__problem-chip\" data-problem-id=\"zc9UnkgcyJY\" href='#jce-judge/open/zc9UnkgcyJY' target='_self'><span>swap(함수)</span></a>"
   ]
  },
  {
   "cell_type": "code",
   "execution_count": null,
   "id": "baef70d7-eec0-43c9-a900-12edd0a1b12b",
   "metadata": {},
   "outputs": [],
   "source": [
    "# 1. 이상한 기호 여러번 출력하기_빈칸\n",
    "def weird():#이름이 weird이고 \"~!@#$^&*()_+|\"를 출력하는 함수를 작성해보자\n",
    "    print(\"~!@#$^&*()_+|\")# \"~!@#$^&*()_+|\" 출력\n",
    "\n",
    "n = int(input())\n",
    "for i in range(n):\n",
    "    weird()"
   ]
  },
  {
   "cell_type": "code",
   "execution_count": null,
   "id": "b20c00fc-ef7a-4323-b870-d96496cfc922",
   "metadata": {},
   "outputs": [],
   "source": [
    "# 2. 이상한 기호 여러번 출력하기\n",
    "def weird():\n",
    "    print(\"~!@#$^&*()_+|\")\n",
    "\n",
    "n = int(input())\n",
    "for i in range(n):\n",
    "    weird()"
   ]
  },
  {
   "cell_type": "code",
   "execution_count": null,
   "id": "e6646aa9-0bb7-4b8a-917e-9b60252992be",
   "metadata": {},
   "outputs": [],
   "source": [
    "# 3. 몫 계산(함수)_빈칸\n",
    "def divide(n1,n2):#문제의 조건에 맞는 함수를 작성해보자 \n",
    "    return n1//n2\n",
    "\n",
    "n1, n2 = map(int, input().split())\n",
    "print(divide(n1,n2))#divide함수를 호출하여 n1을 n2로 나눈 몫을 출력해보자"
   ]
  },
  {
   "cell_type": "code",
   "execution_count": null,
   "id": "7981da90-f339-4de5-9586-efd8907714b4",
   "metadata": {},
   "outputs": [],
   "source": [
    "# 4. 몫 계산(함수)\n",
    "def divide(n1,n2):\n",
    "    return n1//n2\n",
    "\n",
    "n1, n2 = map(int, input().split())\n",
    "print(divide(n1,n2))"
   ]
  },
  {
   "cell_type": "code",
   "execution_count": null,
   "id": "d53a602e-9fa5-47c1-bf5e-05d1bbd29299",
   "metadata": {},
   "outputs": [],
   "source": [
    "# 5. 합과 평균(함수)_빈칸\n",
    "def sum_all(a,b,c):#문제의 조건에 맞는 함수를 작성해보자\n",
    "    return a+b+c\n",
    "\n",
    "a, b, c = map(int, input().split())\n",
    "#sum_all함수를 활용하여 a, b, c의 합을 구한 후 출력해보자\n",
    "print(sum_all(a, b, c)) \n",
    "print(sum_all(a, b, c)/3) "
   ]
  },
  {
   "cell_type": "code",
   "execution_count": null,
   "id": "abdfd672-1f09-4b28-b72e-f33da414814f",
   "metadata": {},
   "outputs": [],
   "source": [
    "# 6. 합과 평균(함수)\n",
    "def sum_all(a,b,c):\n",
    "    return a+b+c\n",
    "\n",
    "a, b, c = map(int, input().split())\n",
    "print(sum_all(a, b, c)) \n",
    "print(sum_all(a, b, c)/3) "
   ]
  },
  {
   "cell_type": "code",
   "execution_count": null,
   "id": "89ef31e0-c557-4db2-a979-a05b782ab383",
   "metadata": {},
   "outputs": [],
   "source": [
    "# 7. 점수 등급 분류하기2(함수)_빈칸\n",
    "def grade(g):#문제 조건에 맞는 함수를 작성해보자\n",
    "    if g == 'A':\n",
    "        return 'Great'\n",
    "    elif g == 'B':\n",
    "        return 'Good'\n",
    "    elif g == 'C':\n",
    "        return 'Soso'\n",
    "    elif g == 'F':\n",
    "        return 'Bad'\n",
    "    else:\n",
    "        return '?'\n",
    "\n",
    "a = input()\n",
    "print(grade(a))"
   ]
  },
  {
   "cell_type": "code",
   "execution_count": null,
   "id": "441be2b1-9981-4005-b0a1-b5c31e9d6c05",
   "metadata": {},
   "outputs": [],
   "source": [
    "# 8. 점수 등급 분류하기2(함수)\n",
    "def grade(g):\n",
    "    if g == 'A':\n",
    "        return 'Great'\n",
    "    elif g == 'B':\n",
    "        return 'Good'\n",
    "    elif g == 'C':\n",
    "        return 'Soso'\n",
    "    elif g == 'F':\n",
    "        return 'Bad'\n",
    "    else:\n",
    "        return '?'\n",
    "\n",
    "a = input()\n",
    "print(grade(a))"
   ]
  },
  {
   "cell_type": "code",
   "execution_count": null,
   "id": "38aed770-1535-46c2-b807-3af7cba16dba",
   "metadata": {},
   "outputs": [],
   "source": [
    "# 9. 리스트의 최댓값(함수)_빈칸\n",
    "#문제 조건에 맞는 함수를 선언해보자\n",
    "def max(a):#def ??? :\n",
    "    max = a[0]\n",
    "    for i in a[1:]:\n",
    "        if max<i:\n",
    "            max = i#max값을 업데이트해보자\n",
    "    return max#max를 반환해보자\n",
    "\n",
    "nums = list(map(int, input().split()))\n",
    "print(max(nums))"
   ]
  },
  {
   "cell_type": "code",
   "execution_count": null,
   "id": "e41e946a-1608-434b-94bd-edd4c872ec9b",
   "metadata": {},
   "outputs": [],
   "source": [
    "# 10. 리스트의 최댓값(함수)\n",
    "def max(a):\n",
    "    max = a[0]\n",
    "    for i in a[1:]:\n",
    "        if max<i:\n",
    "            max = i\n",
    "    return max\n",
    "\n",
    "nums = list(map(int, input().split()))\n",
    "print(max(nums))"
   ]
  },
  {
   "cell_type": "code",
   "execution_count": null,
   "id": "55f55ab8-ba85-4211-9b2c-710a6324b39f",
   "metadata": {},
   "outputs": [],
   "source": [
    "# 11. 값 찾기(함수)_빈칸\n",
    "def find(a,n):#문제 조건에 맞는 함수를 작성해보자\n",
    "    for i in range(len(a)):\n",
    "        if a[i] == n:\n",
    "            return i\n",
    "    return -1\n",
    "    \n",
    "a = list(map(int, input().split()))\n",
    "n = int(input())\n",
    "print(find(a, n))"
   ]
  },
  {
   "cell_type": "code",
   "execution_count": null,
   "id": "4a86c338-1d96-478d-bc21-fd27ad5572bd",
   "metadata": {},
   "outputs": [],
   "source": [
    "# 12. 값 찾기(함수)\n",
    "def find(a,n):\n",
    "    for i in range(len(a)):\n",
    "        if a[i] == n:\n",
    "            return i\n",
    "    return -1\n",
    "    \n",
    "a = list(map(int, input().split()))\n",
    "n = int(input())\n",
    "print(find(a, n))"
   ]
  },
  {
   "cell_type": "code",
   "execution_count": null,
   "id": "3b9e5812-2671-4329-93ac-1da193d4120b",
   "metadata": {},
   "outputs": [],
   "source": [
    "# 13. n까지의 합(함수)_빈칸\n",
    "#문제 조건에 맞는 함수를 작성해보자\n",
    "def sum_all(n): #def ??? :\n",
    "    res = 0\n",
    "    for i in range(1,n+1):#반복문을 활용하여 1부터 n까지의 수를 변수 res에 더해보자\n",
    "        res += i\n",
    "    return res#변수 res를 반환해보자\n",
    "\n",
    "n = int(input())\n",
    "print(sum_all(n))"
   ]
  },
  {
   "cell_type": "code",
   "execution_count": null,
   "id": "d3609593-c3b5-4b88-ac43-f7ca5b5bd599",
   "metadata": {},
   "outputs": [],
   "source": [
    "# 14. n까지의 합(함수)\n",
    "def sum_all(n):\n",
    "    res = 0\n",
    "    for i in range(1,n+1):\n",
    "        res += i\n",
    "    return res\n",
    "\n",
    "n = int(input())\n",
    "print(sum_all(n))"
   ]
  },
  {
   "cell_type": "code",
   "execution_count": null,
   "id": "696c00f8-0817-4afb-8a39-a083e6039d49",
   "metadata": {},
   "outputs": [],
   "source": [
    "# 15. swap(함수)_빈칸\n",
    "#문제 조건에 맞는 함수를 작성해보자\n",
    "def swap(a,b):#def ??? :\n",
    "    tmp = a\n",
    "    a = b\n",
    "    b = tmp\n",
    "    return a, b\n",
    "\n",
    "a, b = map(int, input().split())\n",
    "a, b = swap(a, b) \n",
    "print(a, b)"
   ]
  },
  {
   "cell_type": "code",
   "execution_count": null,
   "id": "6277ba2a-df3f-4391-8f53-becfddb53dc2",
   "metadata": {},
   "outputs": [],
   "source": [
    "# 16. swap(함수)\n",
    "def swap(a,b):\n",
    "    tmp = a\n",
    "    a = b\n",
    "    b = tmp\n",
    "    return a, b\n",
    "\n",
    "a, b = map(int, input().split())\n",
    "a, b = swap(a, b) \n",
    "print(a, b)"
   ]
  }
 ],
 "metadata": {
  "kernelspec": {
   "display_name": "Python 3 (ipykernel)",
   "language": "python",
   "name": "python3"
  },
  "language_info": {
   "codemirror_mode": {
    "name": "ipython",
    "version": 3
   },
   "file_extension": ".py",
   "mimetype": "text/x-python",
   "name": "python",
   "nbconvert_exporter": "python",
   "pygments_lexer": "ipython3",
   "version": "3.10.10"
  }
 },
 "nbformat": 4,
 "nbformat_minor": 5
}
